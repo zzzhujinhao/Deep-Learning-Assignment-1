{
 "cells": [
  {
   "cell_type": "markdown",
   "id": "73da29df",
   "metadata": {},
   "source": [
    "# 1. Data loading and preprocessing"
   ]
  },
  {
   "cell_type": "code",
   "execution_count": 1,
   "id": "6fc392c5",
   "metadata": {},
   "outputs": [],
   "source": [
    "import matplotlib.pyplot as plt\n",
    "import numpy as np\n",
    "from sklearn.model_selection import train_test_split, cross_val_score, RandomizedSearchCV\n",
    "from sklearn.linear_model import Perceptron as SklearnPerceptron, LogisticRegression\n",
    "from sklearn.ensemble import RandomForestClassifier\n",
    "from sklearn.metrics import accuracy_score, precision_score, recall_score, f1_score, confusion_matrix\n",
    "from sklearn.metrics import roc_curve, roc_auc_score\n",
    "from sklearn.preprocessing import StandardScaler\n",
    "\n",
    "\n",
    "# Handle data\n",
    "def load_data(filepath):\n",
    "    features = []\n",
    "    labels = []\n",
    "    \n",
    "    with open(filepath, 'r') as file:\n",
    "        for line in file:\n",
    "            parts = line.split()\n",
    "            if len(parts) > 1: \n",
    "                labels.append(int(parts[0]))  # First column is the label\n",
    "                feature_vector = [float(val.split(\":\")[1]) for val in parts[1:]]  \n",
    "                features.append(feature_vector)\n",
    "    \n",
    "    # Ensure all rows have the same number of features\n",
    "    max_len = max(len(f) for f in features)\n",
    "    features_padded = [f + [0] * (max_len - len(f)) for f in features]  # Pad with zeros\n",
    "    \n",
    "    X = np.array(features_padded)\n",
    "    y = np.array(labels)\n",
    "    return X, y\n",
    "\n",
    "# Load the dataset\n",
    "X, y = load_data('diabetes_scale.txt')\n",
    "\n",
    "# Split the data into training and testing sets\n",
    "X_train, X_test, y_train, y_test = train_test_split(X, y, test_size=0.2, random_state=42)\n",
    "\n",
    "# Feature scaling\n",
    "scaler = StandardScaler()\n",
    "X_train_scaled = scaler.fit_transform(X_train)\n",
    "X_test_scaled = scaler.transform(X_test)\n"
   ]
  },
  {
   "cell_type": "markdown",
   "id": "18f78766",
   "metadata": {},
   "source": [
    "# 2. Train Perceptron model"
   ]
  },
  {
   "cell_type": "code",
   "execution_count": 2,
   "id": "3c4499d9",
   "metadata": {},
   "outputs": [
    {
     "name": "stdout",
     "output_type": "stream",
     "text": [
      "Perceptron Accuracy: 63.64%\n",
      "Precision: 0.69\n",
      "Recall: 0.79\n",
      "F1-Score: 0.74\n",
      "Confusion Matrix:\n",
      "[[20 35]\n",
      " [21 78]]\n"
     ]
    }
   ],
   "source": [
    "# Train Perceptron model\n",
    "perceptron = SklearnPerceptron(max_iter=1000, eta0=0.05, random_state=42)\n",
    "perceptron.fit(X_train_scaled, y_train)\n",
    "\n",
    "# Make predictions and evaluate Perceptron\n",
    "y_pred_perceptron = perceptron.predict(X_test_scaled)\n",
    "accuracy_perceptron = accuracy_score(y_test, y_pred_perceptron)\n",
    "precision = precision_score(y_test, y_pred_perceptron)\n",
    "recall = recall_score(y_test, y_pred_perceptron)\n",
    "f1 = f1_score(y_test, y_pred_perceptron)\n",
    "conf_matrix = confusion_matrix(y_test, y_pred_perceptron)\n",
    "\n",
    "print(f\"Perceptron Accuracy: {accuracy_perceptron * 100:.2f}%\")\n",
    "print(f\"Precision: {precision:.2f}\")\n",
    "print(f\"Recall: {recall:.2f}\")\n",
    "print(f\"F1-Score: {f1:.2f}\")\n",
    "print(f\"Confusion Matrix:\\n{conf_matrix}\")\n"
   ]
  },
  {
   "cell_type": "markdown",
   "id": "56bebb7e",
   "metadata": {},
   "source": [
    "# 3. Train Logistic Regression model"
   ]
  },
  {
   "cell_type": "code",
   "execution_count": 3,
   "id": "793664fb",
   "metadata": {},
   "outputs": [
    {
     "name": "stdout",
     "output_type": "stream",
     "text": [
      "Logistic Regression Accuracy: 75.32%\n",
      "Cross-Validation Accuracy (Logistic Regression): 76.06%\n"
     ]
    }
   ],
   "source": [
    "# Train Logistic Regression model\n",
    "log_reg = LogisticRegression(max_iter=1000, random_state=42)\n",
    "log_reg.fit(X_train_scaled, y_train)\n",
    "\n",
    "# Make predictions and evaluate Logistic Regression\n",
    "y_pred_log_reg = log_reg.predict(X_test_scaled)\n",
    "accuracy_log_reg = accuracy_score(y_test, y_pred_log_reg)\n",
    "print(f\"Logistic Regression Accuracy: {accuracy_log_reg * 100:.2f}%\")\n",
    "\n",
    "# Perform cross-validation \n",
    "scores_log_reg = cross_val_score(log_reg, X_train_scaled, y_train, cv=5, scoring='accuracy')\n",
    "print(f\"Cross-Validation Accuracy (Logistic Regression): {np.mean(scores_log_reg) * 100:.2f}%\")"
   ]
  },
  {
   "cell_type": "markdown",
   "id": "c41683d2",
   "metadata": {},
   "source": [
    "# 4. Train and tune Random Forest model using RandomizedSearchCV"
   ]
  },
  {
   "cell_type": "code",
   "execution_count": 4,
   "id": "8507fe4d",
   "metadata": {},
   "outputs": [
    {
     "name": "stdout",
     "output_type": "stream",
     "text": [
      "Best parameters: {'n_estimators': 200, 'min_samples_split': 10, 'max_depth': 10}\n",
      "Random Forest Accuracy: 74.03%\n",
      "Best cross-validation accuracy: 78.18%\n",
      "Feature 1: 0.0663\n",
      "Feature 2: 0.2978\n",
      "Feature 3: 0.0712\n",
      "Feature 4: 0.0592\n",
      "Feature 5: 0.0727\n",
      "Feature 6: 0.1725\n",
      "Feature 7: 0.1057\n",
      "Feature 8: 0.1546\n",
      "ROC-AUC Score (Random Forest): 0.84\n",
      "Random Forest Precision: 0.80\n",
      "Random Forest Recall: 0.79\n",
      "Random Forest F1-Score: 0.80\n",
      "Random Forest Confusion Matrix:\n",
      "[[36 19]\n",
      " [21 78]]\n"
     ]
    }
   ],
   "source": [
    "# Train and tune Random Forest model using RandomizedSearchCV\n",
    "param_grid = {\n",
    "    'n_estimators': [50, 100, 200],\n",
    "    'max_depth': [None, 10, 20, 30],\n",
    "    'min_samples_split': [2, 5, 10]\n",
    "}\n",
    "\n",
    "rf = RandomForestClassifier(random_state=42)\n",
    "random_search = RandomizedSearchCV(rf, param_grid, n_iter=10, cv=5, scoring='accuracy', random_state=42)\n",
    "random_search.fit(X_train_scaled, y_train)\n",
    "\n",
    "# Evaluate Random Forest\n",
    "best_rf = random_search.best_estimator_\n",
    "y_pred_rf = best_rf.predict(X_test_scaled)\n",
    "accuracy_rf = accuracy_score(y_test, y_pred_rf)\n",
    "\n",
    "print(f\"Best parameters: {random_search.best_params_}\")\n",
    "print(f\"Random Forest Accuracy: {accuracy_rf * 100:.2f}%\")\n",
    "print(f\"Best cross-validation accuracy: {random_search.best_score_ * 100:.2f}%\")\n",
    "\n",
    "# Feature importance\n",
    "importances = best_rf.feature_importances_\n",
    "for i, importance in enumerate(importances):\n",
    "    print(f\"Feature {i+1}: {importance:.4f}\")\n",
    "\n",
    "# ROC-AUC score for Random Forest\n",
    "y_pred_prob_rf = best_rf.predict_proba(X_test_scaled)[:, 1]\n",
    "roc_auc = roc_auc_score(y_test, y_pred_prob_rf)\n",
    "print(f\"ROC-AUC Score (Random Forest): {roc_auc:.2f}\")\n",
    "\n",
    "# Evaluate other metrics for Random Forest\n",
    "precision_rf = precision_score(y_test, y_pred_rf)\n",
    "recall_rf = recall_score(y_test, y_pred_rf)\n",
    "f1_rf = f1_score(y_test, y_pred_rf)\n",
    "conf_matrix_rf = confusion_matrix(y_test, y_pred_rf)\n",
    "\n",
    "print(f\"Random Forest Precision: {precision_rf:.2f}\")\n",
    "print(f\"Random Forest Recall: {recall_rf:.2f}\")\n",
    "print(f\"Random Forest F1-Score: {f1_rf:.2f}\")\n",
    "print(f\"Random Forest Confusion Matrix:\\n{conf_matrix_rf}\")"
   ]
  },
  {
   "cell_type": "code",
   "execution_count": 5,
   "id": "a104aac2",
   "metadata": {},
   "outputs": [
    {
     "data": {
      "image/png": "[encoded data removed]",
      "text/plain": [
       "<Figure size 800x600 with 1 Axes>"
      ]
     },
     "metadata": {},
     "output_type": "display_data"
    }
   ],
   "source": [
    "# ROC curve\n",
    "y_pred_prob_rf = best_rf.predict_proba(X_test_scaled)[:, 1]\n",
    "fpr, tpr, thresholds = roc_curve(y_test, y_pred_prob_rf)\n",
    "\n",
    "# ROC-AUC score\n",
    "roc_auc = roc_auc_score(y_test, y_pred_prob_rf)\n",
    "\n",
    "# Plot the ROC curve\n",
    "plt.figure(figsize=(8, 6))\n",
    "plt.plot(fpr, tpr, color='blue', label='Random Forest (ROC-AUC = {:.2f})'.format(roc_auc))\n",
    "plt.plot([0, 1], [0, 1], color='red', linestyle='--', label='Random (AUC = 0.50)')\n",
    "plt.xlabel('False Positive Rate')\n",
    "plt.ylabel('True Positive Rate')\n",
    "plt.title('ROC Curve for Random Forest')\n",
    "plt.legend(loc='lower right')\n",
    "plt.grid(True)\n",
    "plt.show()"
   ]
  }
 ],
 "metadata": {
  "kernelspec": {
   "display_name": "Python 3 (ipykernel)",
   "language": "python",
   "name": "python3"
  },
  "language_info": {
   "codemirror_mode": {
    "name": "ipython",
    "version": 3
   },
   "file_extension": ".py",
   "mimetype": "text/x-python",
   "name": "python",
   "nbconvert_exporter": "python",
   "pygments_lexer": "ipython3",
   "version": "3.11.4"
  }
 },
 "nbformat": 4,
 "nbformat_minor": 5
}
